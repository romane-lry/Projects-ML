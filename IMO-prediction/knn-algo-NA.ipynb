{
 "cells": [
  {
   "cell_type": "code",
   "execution_count": 1,
   "id": "629ff506",
   "metadata": {},
   "outputs": [
    {
     "name": "stderr",
     "output_type": "stream",
     "text": [
      "Using `tqdm.autonotebook.tqdm` in notebook mode. Use `tqdm.tqdm` instead to force console mode (e.g. in jupyter console)\n"
     ]
    }
   ],
   "source": [
    "import numpy as np\n",
    "import pandas as pd\n",
    "import os\n",
    "from sklearn.metrics import roc_curve, auc, precision_recall_curve, average_precision_score, confusion_matrix, ConfusionMatrixDisplay, classification_report\n",
    "import shap\n",
    "from sklearn import preprocessing\n",
    "from sklearn.model_selection import train_test_split\n",
    "import matplotlib.pyplot as plt\n",
    "from sklearn.ensemble import RandomForestClassifier\n",
    "from sklearn.calibration import CalibratedClassifierCV\n",
    "from sklearn.neighbors import KNeighborsRegressor\n",
    "from copy import deepcopy\n",
    "from math import sqrt"
   ]
  },
  {
   "cell_type": "code",
   "execution_count": 2,
   "id": "fc51dd5d",
   "metadata": {},
   "outputs": [],
   "source": [
    "derivation_cohort = pd.read_csv(\"data/Derivation_dataset.csv\")\n",
    "external_validation_cohort = pd.read_csv(\"data/External_validation_dataset.csv\")"
   ]
  },
  {
   "cell_type": "code",
   "execution_count": 3,
   "id": "9f60a5a3",
   "metadata": {},
   "outputs": [
    {
     "data": {
      "text/html": [
       "<div>\n",
       "<style scoped>\n",
       "    .dataframe tbody tr th:only-of-type {\n",
       "        vertical-align: middle;\n",
       "    }\n",
       "\n",
       "    .dataframe tbody tr th {\n",
       "        vertical-align: top;\n",
       "    }\n",
       "\n",
       "    .dataframe thead th {\n",
       "        text-align: right;\n",
       "    }\n",
       "</style>\n",
       "<table border=\"1\" class=\"dataframe\">\n",
       "  <thead>\n",
       "    <tr style=\"text-align: right;\">\n",
       "      <th></th>\n",
       "      <th>Outcome_Occlusion_MI</th>\n",
       "      <th>Age</th>\n",
       "      <th>HR</th>\n",
       "      <th>PR</th>\n",
       "      <th>QRSd</th>\n",
       "      <th>mfpQRSaxis</th>\n",
       "      <th>fpTaxis</th>\n",
       "      <th>txzQRSaxis</th>\n",
       "      <th>QRSTangle</th>\n",
       "      <th>mQRSTangle</th>\n",
       "      <th>...</th>\n",
       "      <th>tamp_III</th>\n",
       "      <th>tamp_aVR</th>\n",
       "      <th>tamp_aVL</th>\n",
       "      <th>tamp_aVF</th>\n",
       "      <th>tamp_V1</th>\n",
       "      <th>tamp_V2</th>\n",
       "      <th>tamp_V3</th>\n",
       "      <th>tamp_V4</th>\n",
       "      <th>tamp_V5</th>\n",
       "      <th>tamp_V6</th>\n",
       "    </tr>\n",
       "  </thead>\n",
       "  <tbody>\n",
       "    <tr>\n",
       "      <th>0</th>\n",
       "      <td>0</td>\n",
       "      <td>78.0</td>\n",
       "      <td>116.0</td>\n",
       "      <td>94.0</td>\n",
       "      <td>107.0</td>\n",
       "      <td>7.0</td>\n",
       "      <td>107.0</td>\n",
       "      <td>79.0</td>\n",
       "      <td>163.0</td>\n",
       "      <td>142.0</td>\n",
       "      <td>...</td>\n",
       "      <td>46.0</td>\n",
       "      <td>0.0</td>\n",
       "      <td>-61.0</td>\n",
       "      <td>63.0</td>\n",
       "      <td>132.0</td>\n",
       "      <td>201.0</td>\n",
       "      <td>319.0</td>\n",
       "      <td>125.0</td>\n",
       "      <td>59.0</td>\n",
       "      <td>-65.0</td>\n",
       "    </tr>\n",
       "    <tr>\n",
       "      <th>1</th>\n",
       "      <td>0</td>\n",
       "      <td>84.0</td>\n",
       "      <td>71.0</td>\n",
       "      <td>174.0</td>\n",
       "      <td>136.0</td>\n",
       "      <td>53.0</td>\n",
       "      <td>NaN</td>\n",
       "      <td>51.0</td>\n",
       "      <td>137.0</td>\n",
       "      <td>113.0</td>\n",
       "      <td>...</td>\n",
       "      <td>69.0</td>\n",
       "      <td>51.0</td>\n",
       "      <td>32.0</td>\n",
       "      <td>-72.0</td>\n",
       "      <td>344.0</td>\n",
       "      <td>742.0</td>\n",
       "      <td>668.0</td>\n",
       "      <td>172.0</td>\n",
       "      <td>-153.0</td>\n",
       "      <td>23.0</td>\n",
       "    </tr>\n",
       "    <tr>\n",
       "      <th>2</th>\n",
       "      <td>0</td>\n",
       "      <td>76.0</td>\n",
       "      <td>73.0</td>\n",
       "      <td>191.0</td>\n",
       "      <td>110.0</td>\n",
       "      <td>-72.0</td>\n",
       "      <td>56.0</td>\n",
       "      <td>110.0</td>\n",
       "      <td>153.0</td>\n",
       "      <td>147.0</td>\n",
       "      <td>...</td>\n",
       "      <td>50.0</td>\n",
       "      <td>-131.0</td>\n",
       "      <td>29.0</td>\n",
       "      <td>103.0</td>\n",
       "      <td>-50.0</td>\n",
       "      <td>81.0</td>\n",
       "      <td>186.0</td>\n",
       "      <td>155.0</td>\n",
       "      <td>101.0</td>\n",
       "      <td>60.0</td>\n",
       "    </tr>\n",
       "    <tr>\n",
       "      <th>3</th>\n",
       "      <td>0</td>\n",
       "      <td>53.0</td>\n",
       "      <td>76.0</td>\n",
       "      <td>134.0</td>\n",
       "      <td>97.0</td>\n",
       "      <td>71.0</td>\n",
       "      <td>58.0</td>\n",
       "      <td>117.0</td>\n",
       "      <td>50.0</td>\n",
       "      <td>78.0</td>\n",
       "      <td>...</td>\n",
       "      <td>195.0</td>\n",
       "      <td>-249.0</td>\n",
       "      <td>-38.0</td>\n",
       "      <td>266.0</td>\n",
       "      <td>-101.0</td>\n",
       "      <td>89.0</td>\n",
       "      <td>450.0</td>\n",
       "      <td>545.0</td>\n",
       "      <td>656.0</td>\n",
       "      <td>272.0</td>\n",
       "    </tr>\n",
       "    <tr>\n",
       "      <th>4</th>\n",
       "      <td>0</td>\n",
       "      <td>34.0</td>\n",
       "      <td>76.0</td>\n",
       "      <td>160.0</td>\n",
       "      <td>87.0</td>\n",
       "      <td>43.0</td>\n",
       "      <td>70.0</td>\n",
       "      <td>26.0</td>\n",
       "      <td>45.0</td>\n",
       "      <td>38.0</td>\n",
       "      <td>...</td>\n",
       "      <td>169.0</td>\n",
       "      <td>-150.0</td>\n",
       "      <td>-59.0</td>\n",
       "      <td>199.0</td>\n",
       "      <td>75.0</td>\n",
       "      <td>192.0</td>\n",
       "      <td>128.0</td>\n",
       "      <td>103.0</td>\n",
       "      <td>127.0</td>\n",
       "      <td>150.0</td>\n",
       "    </tr>\n",
       "  </tbody>\n",
       "</table>\n",
       "<p>5 rows × 75 columns</p>\n",
       "</div>"
      ],
      "text/plain": [
       "   Outcome_Occlusion_MI   Age     HR     PR   QRSd  mfpQRSaxis  fpTaxis  \\\n",
       "0                     0  78.0  116.0   94.0  107.0         7.0    107.0   \n",
       "1                     0  84.0   71.0  174.0  136.0        53.0      NaN   \n",
       "2                     0  76.0   73.0  191.0  110.0       -72.0     56.0   \n",
       "3                     0  53.0   76.0  134.0   97.0        71.0     58.0   \n",
       "4                     0  34.0   76.0  160.0   87.0        43.0     70.0   \n",
       "\n",
       "   txzQRSaxis  QRSTangle  mQRSTangle  ...  tamp_III  tamp_aVR  tamp_aVL  \\\n",
       "0        79.0      163.0       142.0  ...      46.0       0.0     -61.0   \n",
       "1        51.0      137.0       113.0  ...      69.0      51.0      32.0   \n",
       "2       110.0      153.0       147.0  ...      50.0    -131.0      29.0   \n",
       "3       117.0       50.0        78.0  ...     195.0    -249.0     -38.0   \n",
       "4        26.0       45.0        38.0  ...     169.0    -150.0     -59.0   \n",
       "\n",
       "   tamp_aVF  tamp_V1  tamp_V2  tamp_V3  tamp_V4  tamp_V5  tamp_V6  \n",
       "0      63.0    132.0    201.0    319.0    125.0     59.0    -65.0  \n",
       "1     -72.0    344.0    742.0    668.0    172.0   -153.0     23.0  \n",
       "2     103.0    -50.0     81.0    186.0    155.0    101.0     60.0  \n",
       "3     266.0   -101.0     89.0    450.0    545.0    656.0    272.0  \n",
       "4     199.0     75.0    192.0    128.0    103.0    127.0    150.0  \n",
       "\n",
       "[5 rows x 75 columns]"
      ]
     },
     "execution_count": 3,
     "metadata": {},
     "output_type": "execute_result"
    }
   ],
   "source": [
    "derivation_cohort.head()"
   ]
  },
  {
   "cell_type": "code",
   "execution_count": 4,
   "id": "676a71e5",
   "metadata": {},
   "outputs": [
    {
     "data": {
      "text/html": [
       "<div>\n",
       "<style scoped>\n",
       "    .dataframe tbody tr th:only-of-type {\n",
       "        vertical-align: middle;\n",
       "    }\n",
       "\n",
       "    .dataframe tbody tr th {\n",
       "        vertical-align: top;\n",
       "    }\n",
       "\n",
       "    .dataframe thead th {\n",
       "        text-align: right;\n",
       "    }\n",
       "</style>\n",
       "<table border=\"1\" class=\"dataframe\">\n",
       "  <thead>\n",
       "    <tr style=\"text-align: right;\">\n",
       "      <th></th>\n",
       "      <th>Outcome_Occlusion_MI</th>\n",
       "      <th>Age</th>\n",
       "      <th>HR</th>\n",
       "      <th>PR</th>\n",
       "      <th>QRSd</th>\n",
       "      <th>mfpQRSaxis</th>\n",
       "      <th>fpTaxis</th>\n",
       "      <th>txzQRSaxis</th>\n",
       "      <th>QRSTangle</th>\n",
       "      <th>mQRSTangle</th>\n",
       "      <th>...</th>\n",
       "      <th>tamp_III</th>\n",
       "      <th>tamp_aVR</th>\n",
       "      <th>tamp_aVL</th>\n",
       "      <th>tamp_aVF</th>\n",
       "      <th>tamp_V1</th>\n",
       "      <th>tamp_V2</th>\n",
       "      <th>tamp_V3</th>\n",
       "      <th>tamp_V4</th>\n",
       "      <th>tamp_V5</th>\n",
       "      <th>tamp_V6</th>\n",
       "    </tr>\n",
       "  </thead>\n",
       "  <tbody>\n",
       "    <tr>\n",
       "      <th>0</th>\n",
       "      <td>0</td>\n",
       "      <td>64</td>\n",
       "      <td>98</td>\n",
       "      <td>NaN</td>\n",
       "      <td>128</td>\n",
       "      <td>35</td>\n",
       "      <td>14.0</td>\n",
       "      <td>-108</td>\n",
       "      <td>23.0</td>\n",
       "      <td>82.0</td>\n",
       "      <td>...</td>\n",
       "      <td>-105</td>\n",
       "      <td>-176</td>\n",
       "      <td>151</td>\n",
       "      <td>80</td>\n",
       "      <td>-242</td>\n",
       "      <td>-129</td>\n",
       "      <td>-98</td>\n",
       "      <td>272</td>\n",
       "      <td>307</td>\n",
       "      <td>270</td>\n",
       "    </tr>\n",
       "    <tr>\n",
       "      <th>1</th>\n",
       "      <td>1</td>\n",
       "      <td>64</td>\n",
       "      <td>76</td>\n",
       "      <td>166.0</td>\n",
       "      <td>95</td>\n",
       "      <td>3</td>\n",
       "      <td>98.0</td>\n",
       "      <td>111</td>\n",
       "      <td>56.0</td>\n",
       "      <td>83.0</td>\n",
       "      <td>...</td>\n",
       "      <td>136</td>\n",
       "      <td>77</td>\n",
       "      <td>-129</td>\n",
       "      <td>143</td>\n",
       "      <td>198</td>\n",
       "      <td>386</td>\n",
       "      <td>469</td>\n",
       "      <td>-147</td>\n",
       "      <td>-140</td>\n",
       "      <td>-106</td>\n",
       "    </tr>\n",
       "    <tr>\n",
       "      <th>2</th>\n",
       "      <td>0</td>\n",
       "      <td>55</td>\n",
       "      <td>65</td>\n",
       "      <td>NaN</td>\n",
       "      <td>125</td>\n",
       "      <td>-77</td>\n",
       "      <td>63.0</td>\n",
       "      <td>76</td>\n",
       "      <td>137.0</td>\n",
       "      <td>134.0</td>\n",
       "      <td>...</td>\n",
       "      <td>138</td>\n",
       "      <td>-166</td>\n",
       "      <td>21</td>\n",
       "      <td>186</td>\n",
       "      <td>-159</td>\n",
       "      <td>178</td>\n",
       "      <td>186</td>\n",
       "      <td>144</td>\n",
       "      <td>107</td>\n",
       "      <td>85</td>\n",
       "    </tr>\n",
       "    <tr>\n",
       "      <th>3</th>\n",
       "      <td>0</td>\n",
       "      <td>58</td>\n",
       "      <td>67</td>\n",
       "      <td>248.0</td>\n",
       "      <td>79</td>\n",
       "      <td>79</td>\n",
       "      <td>44.0</td>\n",
       "      <td>28</td>\n",
       "      <td>32.0</td>\n",
       "      <td>38.0</td>\n",
       "      <td>...</td>\n",
       "      <td>48</td>\n",
       "      <td>-102</td>\n",
       "      <td>-22</td>\n",
       "      <td>84</td>\n",
       "      <td>-33</td>\n",
       "      <td>89</td>\n",
       "      <td>205</td>\n",
       "      <td>179</td>\n",
       "      <td>115</td>\n",
       "      <td>58</td>\n",
       "    </tr>\n",
       "    <tr>\n",
       "      <th>4</th>\n",
       "      <td>0</td>\n",
       "      <td>40</td>\n",
       "      <td>111</td>\n",
       "      <td>140.0</td>\n",
       "      <td>103</td>\n",
       "      <td>54</td>\n",
       "      <td>-22.0</td>\n",
       "      <td>-179</td>\n",
       "      <td>27.0</td>\n",
       "      <td>17.0</td>\n",
       "      <td>...</td>\n",
       "      <td>-108</td>\n",
       "      <td>-51</td>\n",
       "      <td>112</td>\n",
       "      <td>-8</td>\n",
       "      <td>-53</td>\n",
       "      <td>29</td>\n",
       "      <td>87</td>\n",
       "      <td>129</td>\n",
       "      <td>-77</td>\n",
       "      <td>-62</td>\n",
       "    </tr>\n",
       "  </tbody>\n",
       "</table>\n",
       "<p>5 rows × 75 columns</p>\n",
       "</div>"
      ],
      "text/plain": [
       "   Outcome_Occlusion_MI  Age   HR     PR  QRSd  mfpQRSaxis  fpTaxis  \\\n",
       "0                     0   64   98    NaN   128          35     14.0   \n",
       "1                     1   64   76  166.0    95           3     98.0   \n",
       "2                     0   55   65    NaN   125         -77     63.0   \n",
       "3                     0   58   67  248.0    79          79     44.0   \n",
       "4                     0   40  111  140.0   103          54    -22.0   \n",
       "\n",
       "   txzQRSaxis  QRSTangle  mQRSTangle  ...  tamp_III  tamp_aVR  tamp_aVL  \\\n",
       "0        -108       23.0        82.0  ...      -105      -176       151   \n",
       "1         111       56.0        83.0  ...       136        77      -129   \n",
       "2          76      137.0       134.0  ...       138      -166        21   \n",
       "3          28       32.0        38.0  ...        48      -102       -22   \n",
       "4        -179       27.0        17.0  ...      -108       -51       112   \n",
       "\n",
       "   tamp_aVF  tamp_V1  tamp_V2  tamp_V3  tamp_V4  tamp_V5  tamp_V6  \n",
       "0        80     -242     -129      -98      272      307      270  \n",
       "1       143      198      386      469     -147     -140     -106  \n",
       "2       186     -159      178      186      144      107       85  \n",
       "3        84      -33       89      205      179      115       58  \n",
       "4        -8      -53       29       87      129      -77      -62  \n",
       "\n",
       "[5 rows x 75 columns]"
      ]
     },
     "execution_count": 4,
     "metadata": {},
     "output_type": "execute_result"
    }
   ],
   "source": [
    "external_validation_cohort.head()"
   ]
  },
  {
   "cell_type": "code",
   "execution_count": 9,
   "id": "bceeffb8",
   "metadata": {},
   "outputs": [],
   "source": [
    "y = derivation_cohort['Outcome_Occlusion_MI']\n",
    "X = derivation_cohort.drop('Outcome_Occlusion_MI', axis=1)\n",
    "X_train, X_test, y_train, y_test = train_test_split(X, y, test_size=0.2, stratify = y, random_state = 99)\n",
    "\n",
    "y_val = external_validation_cohort['Outcome_Occlusion_MI']\n",
    "X_val = external_validation_cohort.drop('Outcome_Occlusion_MI', axis=1)\n",
    "\n",
    "from sklearn.impute import KNNImputer\n",
    "\n",
    "imputer = KNNImputer(n_neighbors=2, weights=\"uniform\")\n",
    "X_train=imputer.fit_transform(X_train)\n",
    "X_test=imputer.fit_transform(X_test)\n",
    "X_val=imputer.fit_transform(X_val)\n",
    "\n",
    "y_train = np.ravel(np.array(y_train.values))\n",
    "y_test = np.ravel(np.array(y_test.values))\n",
    "y_val = np.ravel(np.array(y_val.values))\n",
    "\n",
    "X_train=pd.DataFrame(X_train)\n",
    "X_test=pd.DataFrame(X_test)\n",
    "X_val=pd.DataFrame(X_val)"
   ]
  },
  {
   "cell_type": "code",
   "execution_count": 10,
   "id": "34607554",
   "metadata": {},
   "outputs": [],
   "source": [
    "columns = X_train.columns\n",
    "\n",
    "X_train = np.array(X_train.values)\n",
    "X_test = np.array(X_test.values)\n",
    "X_val = np.array(X_val.values)\n",
    "\n",
    "scaler = preprocessing.StandardScaler().fit(X_train) # Compute mean and std of training set\n",
    "X_train = scaler.transform(X_train, copy=True)\n",
    "X_test = scaler.transform(X_test, copy=True) # Standardize X_test using training mean and std\n",
    "X_val = scaler.transform(X_val, copy=True)"
   ]
  },
  {
   "cell_type": "code",
   "execution_count": 11,
   "id": "2ba9d5aa",
   "metadata": {},
   "outputs": [],
   "source": [
    "def plot_ROC_curve(fpr, tpr, roc_auc, title):\n",
    "    plt.figure(figsize=[5, 5])\n",
    "    plt.title(title)\n",
    "    plt.plot(fpr, tpr, color='b',\n",
    "                 label=r'RF (AUC = %0.2f)' % (roc_auc),\n",
    "                 lw=2, alpha=.8)\n",
    "    plt.plot([0, 1], [0, 1], linestyle='--', lw=1, color='grey', alpha=.5)\n",
    "    plt.xlim([-0.05, 1.05])\n",
    "    plt.ylim([-0.05, 1.05])\n",
    "    plt.xlabel('False Positive Rate = 1 - Specificity')\n",
    "    plt.ylabel('True Positive Rate = Sensitivity')\n",
    "    plt.legend(loc=\"lower right\")\n",
    "    plt.show()"
   ]
  },
  {
   "cell_type": "code",
   "execution_count": 12,
   "id": "78c748ac",
   "metadata": {},
   "outputs": [],
   "source": [
    "def results(pred_probas):\n",
    "    OMI_score = np.round_(pred_probas*100, decimals=2)\n",
    "    y_pred = np.where(OMI_score<5, 'Low risk', 'Intermediate risk')\n",
    "    y_pred = np.where(OMI_score>=20, 'High risk', y_pred)\n",
    "    \n",
    "    results = {\n",
    "        'Low risk': [np.count_nonzero(y_pred == 'Low risk')],\n",
    "        'Intermediate risk': [np.count_nonzero(y_pred == 'Intermediate risk')],\n",
    "        'High risk': [np.count_nonzero(y_pred == 'High risk')]\n",
    "    }\n",
    "    return(pd.DataFrame(data=results, index=['Count (N)']))"
   ]
  },
  {
   "cell_type": "code",
   "execution_count": 13,
   "id": "78fee34a",
   "metadata": {},
   "outputs": [],
   "source": [
    "def plot_Shapley(clf, df_test, cols, set_name, nf): #nf = number of features\n",
    "    #Load JS visualization code to notebook\n",
    "    shap.initjs()\n",
    "    \n",
    "    #Shapley explainability\n",
    "    plt.figure()\n",
    "    df = pd.DataFrame(data=df_test, columns=(cols))\n",
    "    \n",
    "    shap_values_list = []\n",
    "    for calibrated_classifier in clf.calibrated_classifiers_:\n",
    "        explainer = shap.TreeExplainer(calibrated_classifier.base_estimator)\n",
    "        shap_values = explainer.shap_values(df)\n",
    "        shap_values_list.append(shap_values)\n",
    "    shap_values = np.array(shap_values_list).sum(axis=0) / len(shap_values_list)\n",
    "    \n",
    "    shap.summary_plot(shap_values[1], features=df, feature_names=np.array(cols), sort=True, show=False, max_display=nf, color_bar=False, plot_type='dot', plot_size=(5.00, 10.00))\n",
    "    plt.title('Shapley values of the top '+str(nf)+'/'+str(len(cols))+' features for OMI prediction (derivation cohort)', fontweight=\"bold\")\n",
    "    plt.show()"
   ]
  },
  {
   "cell_type": "code",
   "execution_count": 17,
   "id": "51c74635",
   "metadata": {},
   "outputs": [
    {
     "data": {
      "text/plain": [
       "Text(0.5, 1.0, 'Error Rate vs K')"
      ]
     },
     "execution_count": 17,
     "metadata": {},
     "output_type": "execute_result"
    },
    {
     "data": {
      "image/png": "[encoded data removed]",
      "text/plain": [
       "<Figure size 720x432 with 1 Axes>"
      ]
     },
     "metadata": {
      "needs_background": "light"
     },
     "output_type": "display_data"
    }
   ],
   "source": [
    "error_rate=[]\n",
    "for n_neighbors in range (1,20):\n",
    "    knn_model = KNeighborsRegressor(n_neighbors)\n",
    "    knn_model.fit(X_train, y_train)\n",
    "    pred_probas_train = knn_model.predict(X_train)\n",
    "    error_rate.append(np.mean(pred_probas_train!=y_train))\n",
    "\n",
    "plt.figure(figsize=(10,6))\n",
    "plt.plot(range(1,20),error_rate,color=\"green\",linestyle=\"dashed\",marker=\"o\")\n",
    "plt.xlabel(\"K\")\n",
    "plt.ylabel(\"Error Rate\")\n",
    "plt.title(\"Error Rate vs K\")\n",
    "\n",
    "\n",
    "\n",
    "    #fpr, tpr, thresholds = roc_curve(y_train, pred_probas_train)\n",
    "    #roc_auc = auc(fpr, tpr)\n",
    "    #print(n_neighbors,roc_auc)\n",
    "    #plot_ROC_curve(fpr, tpr, roc_auc, 'Training curve: Derivation cohort (ROC curves)')\n"
   ]
  },
  {
   "cell_type": "code",
   "execution_count": 23,
   "id": "22040c52",
   "metadata": {},
   "outputs": [
    {
     "data": {
      "text/plain": [
       "0.11739130434782609"
      ]
     },
     "execution_count": 23,
     "metadata": {},
     "output_type": "execute_result"
    }
   ],
   "source": [
    "knn_model = KNeighborsRegressor(5)\n",
    "knn_model.fit(X_train, y_train)\n",
    "pred_probas_train = knn_model.predict(X_train)\n",
    "np.mean(pred_probas_train!=y_train)"
   ]
  },
  {
   "cell_type": "code",
   "execution_count": 24,
   "id": "7168569a",
   "metadata": {},
   "outputs": [
    {
     "name": "stdout",
     "output_type": "stream",
     "text": [
      "Train\n"
     ]
    },
    {
     "data": {
      "image/png": "[encoded data removed]",
      "text/plain": [
       "<Figure size 360x360 with 1 Axes>"
      ]
     },
     "metadata": {
      "needs_background": "light"
     },
     "output_type": "display_data"
    }
   ],
   "source": [
    "print(\"Train\")\n",
    "    \n",
    "# Compute ROC curve and area under the curve\n",
    "fpr, tpr, thresholds = roc_curve(y_train, pred_probas_train)\n",
    "roc_auc = auc(fpr, tpr)\n",
    "plot_ROC_curve(fpr, tpr, roc_auc, 'Training curve: Derivation cohort (ROC curves)')"
   ]
  },
  {
   "cell_type": "code",
   "execution_count": 25,
   "id": "49f44f9b",
   "metadata": {},
   "outputs": [
    {
     "ename": "NameError",
     "evalue": "name 'risk_groups_train' is not defined",
     "output_type": "error",
     "traceback": [
      "\u001b[1;31m---------------------------------------------------------------------------\u001b[0m",
      "\u001b[1;31mNameError\u001b[0m                                 Traceback (most recent call last)",
      "Input \u001b[1;32mIn [25]\u001b[0m, in \u001b[0;36m<cell line: 1>\u001b[1;34m()\u001b[0m\n\u001b[1;32m----> 1\u001b[0m \u001b[43mrisk_groups_train\u001b[49m\u001b[38;5;241m.\u001b[39mhead()\n",
      "\u001b[1;31mNameError\u001b[0m: name 'risk_groups_train' is not defined"
     ]
    }
   ],
   "source": [
    "risk_groups_train.head()"
   ]
  },
  {
   "cell_type": "code",
   "execution_count": 26,
   "id": "fa0374bf",
   "metadata": {},
   "outputs": [
    {
     "name": "stdout",
     "output_type": "stream",
     "text": [
      "Test\n"
     ]
    },
    {
     "data": {
      "image/png": "[encoded data removed]",
      "text/plain": [
       "<Figure size 360x360 with 1 Axes>"
      ]
     },
     "metadata": {
      "needs_background": "light"
     },
     "output_type": "display_data"
    }
   ],
   "source": [
    "print('Test')\n",
    "pred_probas_test=knn_model.predict(X_test)\n",
    "risk_groups_test = results(pred_probas_test)\n",
    "\n",
    "# Compute ROC curve and area under the curve\n",
    "fpr, tpr, thresholds = roc_curve(y_test, pred_probas_test)\n",
    "roc_auc = auc(fpr, tpr)\n",
    "plot_ROC_curve(fpr, tpr, roc_auc, 'Testing curve: Derivation cohort (ROC curves)')\n",
    "\n",
    "#plot_Shapley(knn_model, X_test, columns, 'Derivation cohort', 25)"
   ]
  },
  {
   "cell_type": "code",
   "execution_count": 27,
   "id": "2c712d8c",
   "metadata": {},
   "outputs": [
    {
     "data": {
      "text/html": [
       "<div>\n",
       "<style scoped>\n",
       "    .dataframe tbody tr th:only-of-type {\n",
       "        vertical-align: middle;\n",
       "    }\n",
       "\n",
       "    .dataframe tbody tr th {\n",
       "        vertical-align: top;\n",
       "    }\n",
       "\n",
       "    .dataframe thead th {\n",
       "        text-align: right;\n",
       "    }\n",
       "</style>\n",
       "<table border=\"1\" class=\"dataframe\">\n",
       "  <thead>\n",
       "    <tr style=\"text-align: right;\">\n",
       "      <th></th>\n",
       "      <th>Low risk</th>\n",
       "      <th>Intermediate risk</th>\n",
       "      <th>High risk</th>\n",
       "    </tr>\n",
       "  </thead>\n",
       "  <tbody>\n",
       "    <tr>\n",
       "      <th>Count (N)</th>\n",
       "      <td>716</td>\n",
       "      <td>0</td>\n",
       "      <td>90</td>\n",
       "    </tr>\n",
       "  </tbody>\n",
       "</table>\n",
       "</div>"
      ],
      "text/plain": [
       "           Low risk  Intermediate risk  High risk\n",
       "Count (N)       716                  0         90"
      ]
     },
     "execution_count": 27,
     "metadata": {},
     "output_type": "execute_result"
    }
   ],
   "source": [
    "risk_groups_test.head()"
   ]
  },
  {
   "cell_type": "code",
   "execution_count": 28,
   "id": "efc4a93e",
   "metadata": {},
   "outputs": [
    {
     "name": "stdout",
     "output_type": "stream",
     "text": [
      "External Validation\n"
     ]
    },
    {
     "data": {
      "image/png": "[encoded data removed]",
      "text/plain": [
       "<Figure size 360x360 with 1 Axes>"
      ]
     },
     "metadata": {
      "needs_background": "light"
     },
     "output_type": "display_data"
    }
   ],
   "source": [
    "print(\"External Validation\")\n",
    "pred_probas_val = knn_model.predict(X_val)\n",
    "risk_groups_val = results(pred_probas_val)\n",
    "\n",
    "# Compute ROC curve and area under the curve\n",
    "fpr, tpr, thresholds = roc_curve(y_val, pred_probas_val)\n",
    "roc_auc = auc(fpr, tpr)\n",
    "plot_ROC_curve(fpr, tpr, roc_auc, 'Testing curve: External validation cohort (ROC curves)')"
   ]
  },
  {
   "cell_type": "code",
   "execution_count": 51,
   "id": "353eb967",
   "metadata": {},
   "outputs": [
    {
     "data": {
      "text/html": [
       "<div>\n",
       "<style scoped>\n",
       "    .dataframe tbody tr th:only-of-type {\n",
       "        vertical-align: middle;\n",
       "    }\n",
       "\n",
       "    .dataframe tbody tr th {\n",
       "        vertical-align: top;\n",
       "    }\n",
       "\n",
       "    .dataframe thead th {\n",
       "        text-align: right;\n",
       "    }\n",
       "</style>\n",
       "<table border=\"1\" class=\"dataframe\">\n",
       "  <thead>\n",
       "    <tr style=\"text-align: right;\">\n",
       "      <th></th>\n",
       "      <th>Low risk</th>\n",
       "      <th>Intermediate risk</th>\n",
       "      <th>High risk</th>\n",
       "    </tr>\n",
       "  </thead>\n",
       "  <tbody>\n",
       "    <tr>\n",
       "      <th>Count (N)</th>\n",
       "      <td>3274</td>\n",
       "      <td>0</td>\n",
       "      <td>13</td>\n",
       "    </tr>\n",
       "  </tbody>\n",
       "</table>\n",
       "</div>"
      ],
      "text/plain": [
       "           Low risk  Intermediate risk  High risk\n",
       "Count (N)      3274                  0         13"
      ]
     },
     "execution_count": 51,
     "metadata": {},
     "output_type": "execute_result"
    }
   ],
   "source": [
    "risk_groups_val.head()"
   ]
  },
  {
   "cell_type": "code",
   "execution_count": null,
   "id": "c7b5216e",
   "metadata": {},
   "outputs": [],
   "source": []
  }
 ],
 "metadata": {
  "kernelspec": {
   "display_name": "Python 3 (ipykernel)",
   "language": "python",
   "name": "python3"
  },
  "language_info": {
   "codemirror_mode": {
    "name": "ipython",
    "version": 3
   },
   "file_extension": ".py",
   "mimetype": "text/x-python",
   "name": "python",
   "nbconvert_exporter": "python",
   "pygments_lexer": "ipython3",
   "version": "3.9.12"
  }
 },
 "nbformat": 4,
 "nbformat_minor": 5
}
